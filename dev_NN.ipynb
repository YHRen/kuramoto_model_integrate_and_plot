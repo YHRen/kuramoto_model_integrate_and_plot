{
 "cells": [
  {
   "cell_type": "code",
   "execution_count": 119,
   "metadata": {},
   "outputs": [],
   "source": [
    "import torch\n",
    "import torch.nn as nn\n",
    "import json\n",
    "import numpy as np\n",
    "import matplotlib.pyplot as plt\n",
    "%matplotlib inline"
   ]
  },
  {
   "cell_type": "code",
   "execution_count": 52,
   "metadata": {},
   "outputs": [],
   "source": [
    "class KuramotoData(torch.utils.data.Dataset):\n",
    "    \n",
    "    def __init__(self, filename):\n",
    "        with open(filename, 'r') as fp:\n",
    "            self.data = json.load(fp)\n",
    "        for data_point in self.data:\n",
    "            data_point['g'] = adjlist2adjmtx(data_point['a'])\n",
    "            data_point['w'] = np.asarray(data_point['w'])\n",
    "            data_point['h'] = np.asarray(data_point['h'])\n",
    "            \n",
    "    def adjlist2adjmtx(adjlist):\n",
    "        # adjlist, 0-indexed\n",
    "        n = len(adjlist)\n",
    "        res = np.zeros((n,n))\n",
    "        for i, l in enumerate(adjlist):\n",
    "            for j in l:\n",
    "                res[i][j] = 1\n",
    "        return res\n",
    "    \n",
    "    def __getitem__(self, idx):\n",
    "        xy = self.data[idx]\n",
    "        return (xy['g'], xy['w'], xy['h']), xy['r']\n",
    "    \n",
    "    def __len__(self):\n",
    "        return len(self.data)"
   ]
  },
  {
   "cell_type": "code",
   "execution_count": 115,
   "metadata": {},
   "outputs": [],
   "source": [
    "dataset = KuramotoData('./data_N20_U0x1_L0x4_w10_run500.json')\n",
    "dataloader = torch.utils.data.DataLoader(dataset, batch_size=32)"
   ]
  },
  {
   "cell_type": "code",
   "execution_count": 110,
   "metadata": {},
   "outputs": [],
   "source": [
    "class Flatten(nn.Module):\n",
    "    def forward(self, input):\n",
    "        return input.view(input.size(0), -1)\n",
    "    \n",
    "class KuramotoNN(torch.nn.Module):\n",
    "    \n",
    "    def __init__(self, N):\n",
    "        super(KuramotoNN, self).__init__()\n",
    "        self.N = N\n",
    "        self.tmp = nn.Sequential(Flatten())\n",
    "        self.graph_head = nn.Sequential(Flatten(), nn.Linear(N*N, 1024),nn.ReLU(), nn.BatchNorm1d(1024),\n",
    "                                         nn.Linear(1024, 256),nn.ReLU(), nn.BatchNorm1d(256),\n",
    "                                         nn.Linear(256,128),nn.ReLU())\n",
    "        self.freq_head = nn.Sequential(nn.Linear(N, 128), nn.ReLU(), nn.BatchNorm1d(128),\n",
    "                                      nn.Linear(128,64), nn.ReLU(), nn.BatchNorm1d(64),\n",
    "                                      nn.Linear(64,32), nn.ReLU())\n",
    "        self.regressor = nn.Sequential(nn.Linear(128+32, 64), nn.ReLU(), nn.BatchNorm1d(64),\n",
    "                                      nn.Linear(64,16), nn.ReLU(), nn.Linear(16,1))\n",
    "        #self.init_theta = notimplemented\n",
    "    \n",
    "    def forward(self, input):\n",
    "        a, w = input\n",
    "        x1 = self.graph_head(a)\n",
    "        x2 = self.freq_head(w)\n",
    "        res = self.regressor(torch.cat((x1, x2), dim=1))\n",
    "        res = res.squeeze()\n",
    "        return res\n",
    "        "
   ]
  },
  {
   "cell_type": "code",
   "execution_count": 123,
   "metadata": {},
   "outputs": [],
   "source": [
    "net = KuramotoNN(20)\n",
    "optm = torch.optim.Adam(net.parameters(), lr=0.0001)\n",
    "crit = torch.nn.L1Loss()"
   ]
  },
  {
   "cell_type": "code",
   "execution_count": 124,
   "metadata": {},
   "outputs": [],
   "source": [
    "losses = []\n",
    "for e in range(50):\n",
    "    for x,y in dataloader:\n",
    "        net.zero_grad()\n",
    "        yhat = net((x[0].float(), x[1].float()))\n",
    "        loss = crit(yhat, y.float())\n",
    "        loss.backward()\n",
    "        optm.step()\n",
    "        losses.append(loss.item())"
   ]
  },
  {
   "cell_type": "code",
   "execution_count": 125,
   "metadata": {},
   "outputs": [
    {
     "data": {
      "text/plain": [
       "[<matplotlib.lines.Line2D at 0x7fc2297fa6a0>]"
      ]
     },
     "execution_count": 125,
     "metadata": {},
     "output_type": "execute_result"
    },
    {
     "data": {
      "image/png": "[encoded data removed]",
      "text/plain": [
       "<Figure size 432x288 with 1 Axes>"
      ]
     },
     "metadata": {
      "needs_background": "light"
     },
     "output_type": "display_data"
    }
   ],
   "source": [
    "plt.plot(losses)"
   ]
  },
  {
   "cell_type": "code",
   "execution_count": null,
   "metadata": {},
   "outputs": [],
   "source": []
  },
  {
   "cell_type": "code",
   "execution_count": 96,
   "metadata": {},
   "outputs": [],
   "source": [
    "tmp1 = torch.rand((3,4))\n",
    "tmp2 = torch.rand((3,2))"
   ]
  },
  {
   "cell_type": "code",
   "execution_count": 70,
   "metadata": {},
   "outputs": [
    {
     "data": {
      "text/plain": [
       "tensor([[0.6150, 0.1479, 0.0457, 0.5200, 0.2767, 0.2204],\n",
       "        [0.6458, 0.4026, 0.8597, 0.1714, 0.6759, 0.7641],\n",
       "        [0.3335, 0.7305, 0.4387, 0.3359, 0.0434, 0.6973]])"
      ]
     },
     "execution_count": 70,
     "metadata": {},
     "output_type": "execute_result"
    }
   ],
   "source": [
    "torch.cat([tmp1, tmp2],1)"
   ]
  },
  {
   "cell_type": "code",
   "execution_count": 67,
   "metadata": {},
   "outputs": [
    {
     "data": {
      "text/plain": [
       "(torch.Size([3, 4]), torch.Size([3, 2]))"
      ]
     },
     "execution_count": 67,
     "metadata": {},
     "output_type": "execute_result"
    }
   ],
   "source": [
    "tmp1.shape, tmp2.shape"
   ]
  },
  {
   "cell_type": "code",
   "execution_count": null,
   "metadata": {},
   "outputs": [],
   "source": []
  },
  {
   "cell_type": "code",
   "execution_count": 55,
   "metadata": {},
   "outputs": [
    {
     "name": "stdout",
     "output_type": "stream",
     "text": [
      "<class 'torch.Tensor'> <class 'torch.Tensor'> <class 'torch.Tensor'> <class 'torch.Tensor'>\n",
      "torch.Size([5, 20, 20])\n",
      "tensor([0.6494, 0.5803, 0.6901, 0.6693, 0.4228], dtype=torch.float64)\n"
     ]
    }
   ],
   "source": [
    "for x,y in dataloader:\n",
    "    print(type(x[0]), type(x[1]), type(x[2]), type(y))\n",
    "    print(x[0].shape)\n",
    "    print(y)\n",
    "    break"
   ]
  },
  {
   "cell_type": "code",
   "execution_count": 31,
   "metadata": {},
   "outputs": [
    {
     "data": {
      "text/plain": [
       "['a', 'w', 'h', 'r', 'ps', 'g']"
      ]
     },
     "execution_count": 31,
     "metadata": {},
     "output_type": "execute_result"
    }
   ],
   "source": [
    "list(dataset.data[0].keys())"
   ]
  }
 ],
 "metadata": {
  "kernelspec": {
   "display_name": "Python 3",
   "language": "python",
   "name": "python3"
  },
  "language_info": {
   "codemirror_mode": {
    "name": "ipython",
    "version": 3
   },
   "file_extension": ".py",
   "mimetype": "text/x-python",
   "name": "python",
   "nbconvert_exporter": "python",
   "pygments_lexer": "ipython3",
   "version": "3.7.3"
  }
 },
 "nbformat": 4,
 "nbformat_minor": 4
}
