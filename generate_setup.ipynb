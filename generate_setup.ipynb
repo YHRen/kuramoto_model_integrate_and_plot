{
 "cells": [
  {
   "cell_type": "code",
   "execution_count": 15,
   "metadata": {
    "collapsed": true,
    "jupyter": {
     "outputs_hidden": true
    }
   },
   "outputs": [],
   "source": [
    "%matplotlib inline\n",
    "from numpy import *\n",
    "from numpy.linalg import *\n",
    "from matplotlib.pyplot import *\n",
    "import networkx as nx"
   ]
  },
  {
   "cell_type": "code",
   "execution_count": null,
   "metadata": {
    "collapsed": true,
    "jupyter": {
     "outputs_hidden": true
    }
   },
   "outputs": [],
   "source": []
  },
  {
   "cell_type": "code",
   "execution_count": 16,
   "metadata": {
    "collapsed": true,
    "jupyter": {
     "outputs_hidden": true
    }
   },
   "outputs": [],
   "source": [
    "\n",
    "def write_directed_vertex_list_to_file(g, filename):\n",
    "    A=array(g.edges())\n",
    "    A=append(A,A[:,[1,0]], axis=0)\n",
    "    A=array(A[A[:,0].argsort()]).astype(int)\n",
    "    savetxt(filename, A, fmt='%i')\n",
    "\n",
    "\n",
    "def unique_rows(a):\n",
    "    a = ascontiguousarray(a)\n",
    "    unique_a = unique(a.view([('', a.dtype)]*a.shape[1]))\n",
    "    return unique_a.view(a.dtype).reshape((unique_a.shape[0], a.shape[1]))\n",
    "\n",
    "\n",
    "def to_undirected_vertex_list(A):\n",
    "    AA=[[min(A[i]), max(A[i])] for i in range(shape(A)[0])]\n",
    "    return unique_rows(AA).astype(int).tolist()"
   ]
  },
  {
   "cell_type": "code",
   "execution_count": 18,
   "metadata": {},
   "outputs": [
    {
     "data": {
      "image/png": "[encoded data removed]",
      "text/plain": [
       "<matplotlib.figure.Figure at 0x88f90b8>"
      ]
     },
     "metadata": {},
     "output_type": "display_data"
    }
   ],
   "source": [
    "g=nx.barabasi_albert_graph(11, 2)\n",
    "nx.draw_networkx(g)\n",
    "write_directed_vertex_list_to_file(g,'parameters\\\\N0011_BA002_001.net')"
   ]
  },
  {
   "cell_type": "code",
   "execution_count": null,
   "metadata": {
    "collapsed": true,
    "jupyter": {
     "outputs_hidden": true
    }
   },
   "outputs": [],
   "source": [
    "#A=loadtxt('N0010_BA002_001.net')\n",
    "#g=nx.Graph(to_undirected_vertex_list(A))\n",
    "#nx.draw_networkx(g)"
   ]
  },
  {
   "cell_type": "code",
   "execution_count": null,
   "metadata": {
    "collapsed": true,
    "jupyter": {
     "outputs_hidden": true
    }
   },
   "outputs": [],
   "source": [
    "#w=random.rand(10)\n",
    "#savetxt('N0010_U001.Freq', w, fmt='%f')"
   ]
  },
  {
   "cell_type": "code",
   "execution_count": null,
   "metadata": {
    "collapsed": true,
    "jupyter": {
     "outputs_hidden": true
    }
   },
   "outputs": [],
   "source": [
    "#theta0=random.uniform(-pi,pi,10)\n",
    "#savetxt('N0010_R001.Ic', theta, fmt='%f')"
   ]
  },
  {
   "cell_type": "code",
   "execution_count": 4,
   "metadata": {
    "collapsed": true,
    "jupyter": {
     "outputs_hidden": true
    }
   },
   "outputs": [],
   "source": [
    "#theta1=random.uniform(-pi,pi,10)\n",
    "#savetxt('N0010_R002.Ic', theta1, fmt='%f')"
   ]
  },
  {
   "cell_type": "code",
   "execution_count": null,
   "metadata": {
    "collapsed": true,
    "jupyter": {
     "outputs_hidden": true
    }
   },
   "outputs": [],
   "source": []
  },
  {
   "cell_type": "code",
   "execution_count": null,
   "metadata": {
    "collapsed": true,
    "jupyter": {
     "outputs_hidden": true
    }
   },
   "outputs": [],
   "source": []
  },
  {
   "cell_type": "code",
   "execution_count": 28,
   "metadata": {
    "collapsed": true,
    "jupyter": {
     "outputs_hidden": true
    }
   },
   "outputs": [],
   "source": [
    "def generate_mean_zero_frequencies(n, a = pi, tol = 0.01):\n",
    "\n",
    "    w = zeros(n)\n",
    "    w[n-2] = -a\n",
    "    w[n-1] = a\n",
    "\n",
    "    for i in range(1000):\n",
    "        w[range(n-2)] = random.uniform(-a,a,n-2)\n",
    "        if abs(mean(w)) < 0.01:\n",
    "            return(sort(w))\n",
    "            break\n",
    "\n",
    "    return nan"
   ]
  },
  {
   "cell_type": "code",
   "execution_count": 29,
   "metadata": {
    "collapsed": true,
    "jupyter": {
     "outputs_hidden": true
    }
   },
   "outputs": [],
   "source": [
    "w = generate_mean_zero_frequencies(10)\n",
    "savetxt('parameters/N0010_U001.Freq', w, fmt='%f')"
   ]
  },
  {
   "cell_type": "code",
   "execution_count": 31,
   "metadata": {
    "collapsed": true,
    "jupyter": {
     "outputs_hidden": true
    }
   },
   "outputs": [],
   "source": []
  },
  {
   "cell_type": "code",
   "execution_count": null,
   "metadata": {
    "collapsed": true,
    "jupyter": {
     "outputs_hidden": true
    }
   },
   "outputs": [],
   "source": []
  }
 ],
 "metadata": {
  "kernelspec": {
   "display_name": "Python 3",
   "language": "python",
   "name": "python3"
  },
  "language_info": {
   "codemirror_mode": {
    "name": "ipython",
    "version": 3
   },
   "file_extension": ".py",
   "mimetype": "text/x-python",
   "name": "python",
   "nbconvert_exporter": "python",
   "pygments_lexer": "ipython3",
   "version": "3.7.3"
  }
 },
 "nbformat": 4,
 "nbformat_minor": 4
}
